{
  "cells": [
    {
      "cell_type": "markdown",
      "metadata": {
        "id": "v63_X5D4N0sx"
      },
      "source": [
        "# **Library Imports**"
      ]
    },
    {
      "cell_type": "code",
      "execution_count": 2,
      "metadata": {
        "id": "tJlr8vfKHZYq"
      },
      "outputs": [
        {
          "ename": "ModuleNotFoundError",
          "evalue": "No module named 'seaborn'",
          "output_type": "error",
          "traceback": [
            "\u001b[0;31m---------------------------------------------------------------------------\u001b[0m",
            "\u001b[0;31mModuleNotFoundError\u001b[0m                       Traceback (most recent call last)",
            "\u001b[1;32m/Users/nguyenkiet/Documents/Python/ICS5110-MachineLearning-BodyFatEstimation/Model Development Code/ICS5110_Applied_Machine_Learning_Bayesian_Regression_Implementation.ipynb Cell 2\u001b[0m line \u001b[0;36m3\n\u001b[1;32m      <a href='vscode-notebook-cell:/Users/nguyenkiet/Documents/Python/ICS5110-MachineLearning-BodyFatEstimation/Model%20Development%20Code/ICS5110_Applied_Machine_Learning_Bayesian_Regression_Implementation.ipynb#W1sZmlsZQ%3D%3D?line=0'>1</a>\u001b[0m \u001b[39mimport\u001b[39;00m \u001b[39mpandas\u001b[39;00m \u001b[39mas\u001b[39;00m \u001b[39mpd\u001b[39;00m\n\u001b[1;32m      <a href='vscode-notebook-cell:/Users/nguyenkiet/Documents/Python/ICS5110-MachineLearning-BodyFatEstimation/Model%20Development%20Code/ICS5110_Applied_Machine_Learning_Bayesian_Regression_Implementation.ipynb#W1sZmlsZQ%3D%3D?line=1'>2</a>\u001b[0m \u001b[39mimport\u001b[39;00m \u001b[39mio\u001b[39;00m\n\u001b[0;32m----> <a href='vscode-notebook-cell:/Users/nguyenkiet/Documents/Python/ICS5110-MachineLearning-BodyFatEstimation/Model%20Development%20Code/ICS5110_Applied_Machine_Learning_Bayesian_Regression_Implementation.ipynb#W1sZmlsZQ%3D%3D?line=2'>3</a>\u001b[0m \u001b[39mimport\u001b[39;00m \u001b[39mseaborn\u001b[39;00m \u001b[39mas\u001b[39;00m \u001b[39msns\u001b[39;00m\n\u001b[1;32m      <a href='vscode-notebook-cell:/Users/nguyenkiet/Documents/Python/ICS5110-MachineLearning-BodyFatEstimation/Model%20Development%20Code/ICS5110_Applied_Machine_Learning_Bayesian_Regression_Implementation.ipynb#W1sZmlsZQ%3D%3D?line=3'>4</a>\u001b[0m \u001b[39mimport\u001b[39;00m \u001b[39mmatplotlib\u001b[39;00m\u001b[39m.\u001b[39;00m\u001b[39mpyplot\u001b[39;00m \u001b[39mas\u001b[39;00m \u001b[39mplt\u001b[39;00m\n\u001b[1;32m      <a href='vscode-notebook-cell:/Users/nguyenkiet/Documents/Python/ICS5110-MachineLearning-BodyFatEstimation/Model%20Development%20Code/ICS5110_Applied_Machine_Learning_Bayesian_Regression_Implementation.ipynb#W1sZmlsZQ%3D%3D?line=4'>5</a>\u001b[0m \u001b[39mimport\u001b[39;00m \u001b[39mnumpy\u001b[39;00m \u001b[39mas\u001b[39;00m \u001b[39mnp\u001b[39;00m\n",
            "\u001b[0;31mModuleNotFoundError\u001b[0m: No module named 'seaborn'"
          ]
        }
      ],
      "source": [
        "import pandas as pd\n",
        "import io\n",
        "import seaborn as sns\n",
        "import matplotlib.pyplot as plt\n",
        "import numpy as np\n",
        "from numpy import sqrt\n",
        "\n",
        "from matplotlib.colors import ListedColormap\n",
        "\n",
        "from sklearn import utils\n",
        "from sklearn.datasets import make_blobs\n",
        "from sklearn.svm import SVR, LinearSVR, SVC\n",
        "from sklearn.feature_extraction.text import CountVectorizer\n",
        "\n",
        "from sklearn import metrics\n",
        "from sklearn.metrics import accuracy_score\n",
        "from sklearn.metrics import classification_report, confusion_matrix\n",
        "from sklearn.metrics import mean_squared_error\n",
        "from sklearn.metrics import r2_score\n",
        "\n",
        "from sklearn import preprocessing\n",
        "from sklearn.preprocessing import MinMaxScaler,LabelEncoder,StandardScaler,PowerTransformer\n",
        "from sklearn.model_selection import cross_val_score,train_test_split,cross_val_predict, KFold\n",
        "from sklearn.model_selection import GridSearchCV\n",
        "\n",
        "from sklearn.linear_model import BayesianRidge\n",
        "\n",
        "import pickle"
      ]
    },
    {
      "cell_type": "markdown",
      "metadata": {
        "id": "a5QjAbCVN6rq"
      },
      "source": [
        "# **Dataset Information.**"
      ]
    },
    {
      "cell_type": "code",
      "execution_count": null,
      "metadata": {
        "colab": {
          "base_uri": "https://localhost:8080/"
        },
        "id": "A_cz9MrSH3la",
        "outputId": "ae99d0fa-aaf6-4d14-ca43-908361cda5c8"
      },
      "outputs": [
        {
          "name": "stdout",
          "output_type": "stream",
          "text": [
            "   BodyFat Sex  Age  Weight  Height  Neck  Chest  Abdomen    Hip  Thigh  Knee  \\\n",
            "0     12.3   M   23   69.97    1.72  36.2   93.1     85.2   94.5   59.0  37.3   \n",
            "1      6.1   M   22   78.59    1.84  38.5   93.6     83.0   98.7   58.7  37.3   \n",
            "2     25.3   M   22   69.85    1.68  34.0   95.8     87.9   99.2   59.6  38.9   \n",
            "3     10.4   M   26   83.80    1.84  37.4  101.8     86.4  101.2   60.1  37.3   \n",
            "4     28.7   M   24   83.58    1.81  34.4   97.3    100.0  101.9   63.2  42.2   \n",
            "\n",
            "   Ankle  Biceps  Forearm  Wrist  \n",
            "0   21.9    32.0     27.4   17.1  \n",
            "1   23.4    30.5     28.9   18.2  \n",
            "2   24.0    28.8     25.2   16.6  \n",
            "3   22.8    32.4     29.4   18.2  \n",
            "4   24.0    32.2     27.7   17.7  \n",
            "~~~~~~~~~~~~~~~~~~~~~~~~~~~~~~~~~~~~~~~~~~~~~~~~~~~~~~~~~~~~~~~~~~~~~~~~~~~~~\n",
            "<class 'pandas.core.frame.DataFrame'>\n",
            "RangeIndex: 434 entries, 0 to 433\n",
            "Data columns (total 15 columns):\n",
            " #   Column   Non-Null Count  Dtype  \n",
            "---  ------   --------------  -----  \n",
            " 0   BodyFat  434 non-null    float64\n",
            " 1   Sex      434 non-null    object \n",
            " 2   Age      434 non-null    int64  \n",
            " 3   Weight   434 non-null    float64\n",
            " 4   Height   434 non-null    float64\n",
            " 5   Neck     434 non-null    float64\n",
            " 6   Chest    434 non-null    float64\n",
            " 7   Abdomen  434 non-null    float64\n",
            " 8   Hip      434 non-null    float64\n",
            " 9   Thigh    434 non-null    float64\n",
            " 10  Knee     434 non-null    float64\n",
            " 11  Ankle    434 non-null    float64\n",
            " 12  Biceps   434 non-null    float64\n",
            " 13  Forearm  434 non-null    float64\n",
            " 14  Wrist    434 non-null    float64\n",
            "dtypes: float64(13), int64(1), object(1)\n",
            "memory usage: 51.0+ KB\n",
            "None\n"
          ]
        }
      ],
      "source": [
        "df = pd.read_csv('/content/BodyFat_-_Extended.csv')\n",
        "df = df.rename(columns=lambda x: x.strip())\n",
        "print(df.head())\n",
        "print(\"~~~~~~~~~~~~~~~~~~~~~~~~~~~~~~~~~~~~~~~~~~~~~~~~~~~~~~~~~~~~~~~~~~~~~~~~~~~~~\")\n",
        "print(df.info())"
      ]
    },
    {
      "cell_type": "markdown",
      "metadata": {
        "id": "oVH8QL6X9j68"
      },
      "source": [
        "# **Bayesian Ridge Regression Algorithm Implementation.**"
      ]
    },
    {
      "cell_type": "markdown",
      "metadata": {
        "id": "khz89DcNmpRz"
      },
      "source": [
        "### **Data normalization/mapping, splitting the dataset into training and testing sets, and training the model.**\n"
      ]
    },
    {
      "cell_type": "code",
      "execution_count": null,
      "metadata": {
        "colab": {
          "base_uri": "https://localhost:8080/",
          "height": 75
        },
        "id": "Vs54DobsI_xo",
        "outputId": "dbf39864-89cb-4e4b-f735-499e92f98f5b"
      },
      "outputs": [
        {
          "data": {
            "text/html": [
              "<style>#sk-container-id-1 {color: black;background-color: white;}#sk-container-id-1 pre{padding: 0;}#sk-container-id-1 div.sk-toggleable {background-color: white;}#sk-container-id-1 label.sk-toggleable__label {cursor: pointer;display: block;width: 100%;margin-bottom: 0;padding: 0.3em;box-sizing: border-box;text-align: center;}#sk-container-id-1 label.sk-toggleable__label-arrow:before {content: \"▸\";float: left;margin-right: 0.25em;color: #696969;}#sk-container-id-1 label.sk-toggleable__label-arrow:hover:before {color: black;}#sk-container-id-1 div.sk-estimator:hover label.sk-toggleable__label-arrow:before {color: black;}#sk-container-id-1 div.sk-toggleable__content {max-height: 0;max-width: 0;overflow: hidden;text-align: left;background-color: #f0f8ff;}#sk-container-id-1 div.sk-toggleable__content pre {margin: 0.2em;color: black;border-radius: 0.25em;background-color: #f0f8ff;}#sk-container-id-1 input.sk-toggleable__control:checked~div.sk-toggleable__content {max-height: 200px;max-width: 100%;overflow: auto;}#sk-container-id-1 input.sk-toggleable__control:checked~label.sk-toggleable__label-arrow:before {content: \"▾\";}#sk-container-id-1 div.sk-estimator input.sk-toggleable__control:checked~label.sk-toggleable__label {background-color: #d4ebff;}#sk-container-id-1 div.sk-label input.sk-toggleable__control:checked~label.sk-toggleable__label {background-color: #d4ebff;}#sk-container-id-1 input.sk-hidden--visually {border: 0;clip: rect(1px 1px 1px 1px);clip: rect(1px, 1px, 1px, 1px);height: 1px;margin: -1px;overflow: hidden;padding: 0;position: absolute;width: 1px;}#sk-container-id-1 div.sk-estimator {font-family: monospace;background-color: #f0f8ff;border: 1px dotted black;border-radius: 0.25em;box-sizing: border-box;margin-bottom: 0.5em;}#sk-container-id-1 div.sk-estimator:hover {background-color: #d4ebff;}#sk-container-id-1 div.sk-parallel-item::after {content: \"\";width: 100%;border-bottom: 1px solid gray;flex-grow: 1;}#sk-container-id-1 div.sk-label:hover label.sk-toggleable__label {background-color: #d4ebff;}#sk-container-id-1 div.sk-serial::before {content: \"\";position: absolute;border-left: 1px solid gray;box-sizing: border-box;top: 0;bottom: 0;left: 50%;z-index: 0;}#sk-container-id-1 div.sk-serial {display: flex;flex-direction: column;align-items: center;background-color: white;padding-right: 0.2em;padding-left: 0.2em;position: relative;}#sk-container-id-1 div.sk-item {position: relative;z-index: 1;}#sk-container-id-1 div.sk-parallel {display: flex;align-items: stretch;justify-content: center;background-color: white;position: relative;}#sk-container-id-1 div.sk-item::before, #sk-container-id-1 div.sk-parallel-item::before {content: \"\";position: absolute;border-left: 1px solid gray;box-sizing: border-box;top: 0;bottom: 0;left: 50%;z-index: -1;}#sk-container-id-1 div.sk-parallel-item {display: flex;flex-direction: column;z-index: 1;position: relative;background-color: white;}#sk-container-id-1 div.sk-parallel-item:first-child::after {align-self: flex-end;width: 50%;}#sk-container-id-1 div.sk-parallel-item:last-child::after {align-self: flex-start;width: 50%;}#sk-container-id-1 div.sk-parallel-item:only-child::after {width: 0;}#sk-container-id-1 div.sk-dashed-wrapped {border: 1px dashed gray;margin: 0 0.4em 0.5em 0.4em;box-sizing: border-box;padding-bottom: 0.4em;background-color: white;}#sk-container-id-1 div.sk-label label {font-family: monospace;font-weight: bold;display: inline-block;line-height: 1.2em;}#sk-container-id-1 div.sk-label-container {text-align: center;}#sk-container-id-1 div.sk-container {/* jupyter's `normalize.less` sets `[hidden] { display: none; }` but bootstrap.min.css set `[hidden] { display: none !important; }` so we also need the `!important` here to be able to override the default hidden behavior on the sphinx rendered scikit-learn.org. See: https://github.com/scikit-learn/scikit-learn/issues/21755 */display: inline-block !important;position: relative;}#sk-container-id-1 div.sk-text-repr-fallback {display: none;}</style><div id=\"sk-container-id-1\" class=\"sk-top-container\"><div class=\"sk-text-repr-fallback\"><pre>BayesianRidge()</pre><b>In a Jupyter environment, please rerun this cell to show the HTML representation or trust the notebook. <br />On GitHub, the HTML representation is unable to render, please try loading this page with nbviewer.org.</b></div><div class=\"sk-container\" hidden><div class=\"sk-item\"><div class=\"sk-estimator sk-toggleable\"><input class=\"sk-toggleable__control sk-hidden--visually\" id=\"sk-estimator-id-1\" type=\"checkbox\" checked><label for=\"sk-estimator-id-1\" class=\"sk-toggleable__label sk-toggleable__label-arrow\">BayesianRidge</label><div class=\"sk-toggleable__content\"><pre>BayesianRidge()</pre></div></div></div></div></div>"
            ],
            "text/plain": [
              "BayesianRidge()"
            ]
          },
          "execution_count": 4,
          "metadata": {},
          "output_type": "execute_result"
        }
      ],
      "source": [
        "df['Sex'] = df['Sex'].map({'M': 1, 'F': 0})\n",
        "\n",
        "# Setting the features.\n",
        "X = df.drop('BodyFat', axis=1)\n",
        "y = df['BodyFat']\n",
        "\n",
        "# Splitting the data into training and testing sets.\n",
        "X_train, X_test, y_train, y_test = train_test_split(X, y, test_size=0.332, random_state=42)\n",
        "\n",
        "# Define the hyperparameter grid\n",
        "param_grid = {\n",
        "    'alpha_1': [1e-7, 1e-6, 1e-5, 1e-4],\n",
        "    'alpha_2': [1e-7, 1e-6, 1e-5, 1e-4],\n",
        "    'lambda_1': [1e-7, 1e-6, 1e-5, 1e-4],\n",
        "    'lambda_2': [1e-7, 1e-6, 1e-5, 1e-4],\n",
        "    'fit_intercept': [True, False],\n",
        "    'compute_score': [True, False]\n",
        "}\n",
        "\n",
        "# Creating and training the Bayesian Ridge Regression model.\n",
        "model = BayesianRidge()\n",
        "model.fit(X_train, y_train)"
      ]
    },
    {
      "cell_type": "markdown",
      "metadata": {
        "id": "fjSMBXUi8PZd"
      },
      "source": [
        "### **Evaluation of the results obtained.**\n"
      ]
    },
    {
      "cell_type": "code",
      "execution_count": null,
      "metadata": {
        "colab": {
          "base_uri": "https://localhost:8080/"
        },
        "id": "XJK16L57u3FM",
        "outputId": "37f93f60-d11b-4377-c99d-9a210784c9b8"
      },
      "outputs": [
        {
          "name": "stdout",
          "output_type": "stream",
          "text": [
            "Best Hyperparameters: {'alpha_1': 0.0001, 'alpha_2': 1e-07, 'compute_score': True, 'fit_intercept': True, 'lambda_1': 1e-07, 'lambda_2': 0.0001}\n",
            "Best Model Mean Squared Error: 15.087536010526692\n",
            "Best Model R-Squared Error: 0.6411318441010325\n"
          ]
        }
      ],
      "source": [
        "# Set up GridSearchCV\n",
        "grid_search = GridSearchCV(model, param_grid, cv=5, scoring='neg_mean_squared_error', n_jobs=-1)\n",
        "\n",
        "# Fit the grid search to the data\n",
        "grid_search.fit(X_train, y_train)\n",
        "\n",
        "# Print the best hyperparameters\n",
        "print(\"Best Hyperparameters:\", grid_search.best_params_)\n",
        "\n",
        "# Get the best model\n",
        "best_model = grid_search.best_estimator_\n",
        "\n",
        "# Using the trained model to predict values on the testing set.\n",
        "y_pred_best = best_model.predict(X_test)\n",
        "\n",
        "# Evaluating the model's mean squared error.\n",
        "mse_best = mean_squared_error(y_test, y_pred_best)\n",
        "\n",
        "# Evaluating the model's r-squared error.\n",
        "r_squared_best = r2_score(y_test, y_pred_best)\n",
        "\n",
        "print(f'Best Model Mean Squared Error: {mse_best}')\n",
        "print(f'Best Model R-Squared Error: {r_squared_best}')\n",
        "\n",
        "# Saving the model to a .sav file to be loaded in the 'Models.ipynb' file.\n",
        "filename = 'bayesian_ridge_regression.sav'\n",
        "pickle.dump(best_model, open(filename, 'wb'))"
      ]
    },
    {
      "cell_type": "markdown",
      "metadata": {
        "id": "vLx7N1o0u9hx"
      },
      "source": [
        "### **Testing the model on example data.**"
      ]
    },
    {
      "cell_type": "code",
      "execution_count": null,
      "metadata": {
        "colab": {
          "base_uri": "https://localhost:8080/",
          "height": 390
        },
        "id": "bE68e2MfohRp",
        "outputId": "51b10dca-f385-42ad-96af-36fb0de0e5cf"
      },
      "outputs": [
        {
          "ename": "KeyboardInterrupt",
          "evalue": "Interrupted by user",
          "output_type": "error",
          "traceback": [
            "\u001b[0;31m---------------------------------------------------------------------------\u001b[0m",
            "\u001b[0;31mKeyboardInterrupt\u001b[0m                         Traceback (most recent call last)",
            "\u001b[0;32m<ipython-input-6-60d5141f66c8>\u001b[0m in \u001b[0;36m<cell line: 18>\u001b[0;34m()\u001b[0m\n\u001b[1;32m     16\u001b[0m \u001b[0;34m\u001b[0m\u001b[0m\n\u001b[1;32m     17\u001b[0m \u001b[0;31m# Asking user to input their measurment details.\u001b[0m\u001b[0;34m\u001b[0m\u001b[0;34m\u001b[0m\u001b[0m\n\u001b[0;32m---> 18\u001b[0;31m \u001b[0msex\u001b[0m \u001b[0;34m=\u001b[0m \u001b[0minput\u001b[0m\u001b[0;34m(\u001b[0m\u001b[0;34m\"Sex (M/F): \"\u001b[0m\u001b[0;34m)\u001b[0m\u001b[0;34m\u001b[0m\u001b[0;34m\u001b[0m\u001b[0m\n\u001b[0m\u001b[1;32m     19\u001b[0m \u001b[0mage\u001b[0m \u001b[0;34m=\u001b[0m \u001b[0mfloat\u001b[0m\u001b[0;34m(\u001b[0m\u001b[0minput\u001b[0m\u001b[0;34m(\u001b[0m\u001b[0;34m\"Age: \"\u001b[0m\u001b[0;34m)\u001b[0m\u001b[0;34m)\u001b[0m\u001b[0;34m\u001b[0m\u001b[0;34m\u001b[0m\u001b[0m\n\u001b[1;32m     20\u001b[0m \u001b[0mweight\u001b[0m \u001b[0;34m=\u001b[0m \u001b[0mfloat\u001b[0m\u001b[0;34m(\u001b[0m\u001b[0minput\u001b[0m\u001b[0;34m(\u001b[0m\u001b[0;34m\"Weight: \"\u001b[0m\u001b[0;34m)\u001b[0m\u001b[0;34m)\u001b[0m\u001b[0;34m\u001b[0m\u001b[0;34m\u001b[0m\u001b[0m\n",
            "\u001b[0;32m/usr/local/lib/python3.10/dist-packages/ipykernel/kernelbase.py\u001b[0m in \u001b[0;36mraw_input\u001b[0;34m(self, prompt)\u001b[0m\n\u001b[1;32m    849\u001b[0m                 \u001b[0;34m\"raw_input was called, but this frontend does not support input requests.\"\u001b[0m\u001b[0;34m\u001b[0m\u001b[0;34m\u001b[0m\u001b[0m\n\u001b[1;32m    850\u001b[0m             )\n\u001b[0;32m--> 851\u001b[0;31m         return self._input_request(str(prompt),\n\u001b[0m\u001b[1;32m    852\u001b[0m             \u001b[0mself\u001b[0m\u001b[0;34m.\u001b[0m\u001b[0m_parent_ident\u001b[0m\u001b[0;34m,\u001b[0m\u001b[0;34m\u001b[0m\u001b[0;34m\u001b[0m\u001b[0m\n\u001b[1;32m    853\u001b[0m             \u001b[0mself\u001b[0m\u001b[0;34m.\u001b[0m\u001b[0m_parent_header\u001b[0m\u001b[0;34m,\u001b[0m\u001b[0;34m\u001b[0m\u001b[0;34m\u001b[0m\u001b[0m\n",
            "\u001b[0;32m/usr/local/lib/python3.10/dist-packages/ipykernel/kernelbase.py\u001b[0m in \u001b[0;36m_input_request\u001b[0;34m(self, prompt, ident, parent, password)\u001b[0m\n\u001b[1;32m    893\u001b[0m             \u001b[0;32mexcept\u001b[0m \u001b[0mKeyboardInterrupt\u001b[0m\u001b[0;34m:\u001b[0m\u001b[0;34m\u001b[0m\u001b[0;34m\u001b[0m\u001b[0m\n\u001b[1;32m    894\u001b[0m                 \u001b[0;31m# re-raise KeyboardInterrupt, to truncate traceback\u001b[0m\u001b[0;34m\u001b[0m\u001b[0;34m\u001b[0m\u001b[0m\n\u001b[0;32m--> 895\u001b[0;31m                 \u001b[0;32mraise\u001b[0m \u001b[0mKeyboardInterrupt\u001b[0m\u001b[0;34m(\u001b[0m\u001b[0;34m\"Interrupted by user\"\u001b[0m\u001b[0;34m)\u001b[0m \u001b[0;32mfrom\u001b[0m \u001b[0;32mNone\u001b[0m\u001b[0;34m\u001b[0m\u001b[0;34m\u001b[0m\u001b[0m\n\u001b[0m\u001b[1;32m    896\u001b[0m             \u001b[0;32mexcept\u001b[0m \u001b[0mException\u001b[0m \u001b[0;32mas\u001b[0m \u001b[0me\u001b[0m\u001b[0;34m:\u001b[0m\u001b[0;34m\u001b[0m\u001b[0;34m\u001b[0m\u001b[0m\n\u001b[1;32m    897\u001b[0m                 \u001b[0mself\u001b[0m\u001b[0;34m.\u001b[0m\u001b[0mlog\u001b[0m\u001b[0;34m.\u001b[0m\u001b[0mwarning\u001b[0m\u001b[0;34m(\u001b[0m\u001b[0;34m\"Invalid Message:\"\u001b[0m\u001b[0;34m,\u001b[0m \u001b[0mexc_info\u001b[0m\u001b[0;34m=\u001b[0m\u001b[0;32mTrue\u001b[0m\u001b[0;34m)\u001b[0m\u001b[0;34m\u001b[0m\u001b[0;34m\u001b[0m\u001b[0m\n",
            "\u001b[0;31mKeyboardInterrupt\u001b[0m: Interrupted by user"
          ]
        }
      ],
      "source": [
        "def convert_sex(sex):\n",
        "    return 1 if sex.lower() == 'm' else 0\n",
        "\n",
        "# Function to get user input and make predictions.\n",
        "def predict_body_fat(model, input_data):\n",
        "\n",
        "    input_data['Sex'] = convert_sex(input_data['Sex'])\n",
        "\n",
        "    # Converting input data to a DataFrame.\n",
        "    input_df = pd.DataFrame([input_data])\n",
        "\n",
        "    # Predicting the Body Fat value based on the user input.\n",
        "    prediction = model.predict(input_df)\n",
        "\n",
        "    return prediction[0]\n",
        "\n",
        "# Asking user to input their measurment details.\n",
        "sex = input(\"Sex (M/F): \")\n",
        "age = float(input(\"Age: \"))\n",
        "weight = float(input(\"Weight: \"))\n",
        "height = float(input(\"Height: \"))\n",
        "neck = float(input(\"Neck circumference: \"))\n",
        "chest = float(input(\"Chest circumference: \"))\n",
        "abdomen = float(input(\"Abdomen circumference: \"))\n",
        "hip = float(input(\"Hip circumference: \"))\n",
        "thigh = float(input(\"Thigh circumference: \"))\n",
        "knee = float(input(\"Knee circumference: \"))\n",
        "ankle = float(input(\"Ankle circumference: \"))\n",
        "bicep = float(input(\"Bicep circumference: \"))\n",
        "forearm = float(input(\"Forearm circumference: \"))\n",
        "wrist = float(input(\"Wrist circumference: \"))\n",
        "\n",
        "\n",
        "# Creating the structure for the user input.\n",
        "user_input = {\n",
        "    'Sex': sex,  # Assuming 0 for male, 1 for female\n",
        "    'Age': age,\n",
        "    'Weight': weight,\n",
        "    'Height': height,\n",
        "    'Neck': neck,\n",
        "    'Chest': chest,\n",
        "    'Abdomen': abdomen,\n",
        "    'Hip': hip,\n",
        "    'Thigh': thigh,\n",
        "    'Knee': knee,\n",
        "    'Ankle': ankle,\n",
        "    'Biceps': bicep,\n",
        "    'Forearm': forearm,\n",
        "    'Wrist': wrist\n",
        "}\n",
        "\n",
        "# Calling the function on the user input.\n",
        "user_prediction = predict_body_fat(grid_search, user_input)\n",
        "\n",
        "print(f'\\n\\nBased on the information provided, your predicted Body Fat Percentage evaluates to: {user_prediction:.2f}%')\n",
        "\n",
        "# BodyFat Sex  Age  Weight  Height  Neck  Chest  Abdomen  Hip   Thigh  Knee  Ankle  Biceps  Forearm  Wrist\n",
        "#   12.3   M   23   69.97    1.72  36.2   93.1     85.2   94.5   59.0  37.3   21.9    32.0     27.4   17.12"
      ]
    }
  ],
  "metadata": {
    "colab": {
      "provenance": []
    },
    "kernelspec": {
      "display_name": "Python 3",
      "name": "python3"
    },
    "language_info": {
      "codemirror_mode": {
        "name": "ipython",
        "version": 3
      },
      "file_extension": ".py",
      "mimetype": "text/x-python",
      "name": "python",
      "nbconvert_exporter": "python",
      "pygments_lexer": "ipython3",
      "version": "3.12.2"
    }
  },
  "nbformat": 4,
  "nbformat_minor": 0
}
