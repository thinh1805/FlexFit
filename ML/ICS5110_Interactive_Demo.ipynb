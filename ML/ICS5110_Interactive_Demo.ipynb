{
  "cells": [
    {
      "cell_type": "code",
      "execution_count": null,
      "metadata": {
        "colab": {
          "base_uri": "https://localhost:8080/"
        },
        "id": "c51VOXTleirp",
        "outputId": "d2833e2e-397f-4e50-c9f7-de26c49a13c4"
      },
      "outputs": [
        {
          "name": "stdout",
          "output_type": "stream",
          "text": [
            "Mounted at /content/drive\n"
          ]
        }
      ],
      "source": [
        "from google.colab import drive\n",
        "drive.mount('/content/drive')"
      ]
    },
    {
      "cell_type": "code",
      "execution_count": null,
      "metadata": {
        "cellView": "form",
        "id": "VcQgADc0e3y3"
      },
      "outputs": [],
      "source": [
        "#@title Imports for project\n",
        "\n",
        "import pandas as pd\n",
        "import io\n",
        "import seaborn as sns\n",
        "import matplotlib.pyplot as plt\n",
        "import numpy as np\n",
        "from numpy import sqrt\n",
        "\n",
        "import pickle\n",
        "\n",
        "import tensorflow\n",
        "from tensorflow import keras"
      ]
    },
    {
      "cell_type": "code",
      "execution_count": null,
      "metadata": {
        "cellView": "form",
        "colab": {
          "base_uri": "https://localhost:8080/"
        },
        "id": "0zt5LiY9e3w7",
        "outputId": "3634b4ef-9301-4d3f-84fb-ce9f5ba32125"
      },
      "outputs": [
        {
          "name": "stderr",
          "output_type": "stream",
          "text": [
            "/usr/local/lib/python3.10/dist-packages/sklearn/base.py:318: UserWarning: Trying to unpickle estimator LinearRegression from version 0.22.1 when using version 1.2.2. This might lead to breaking code or invalid results. Use at your own risk. For more info please refer to:\n",
            "https://scikit-learn.org/stable/model_persistence.html#security-maintainability-limitations\n",
            "  warnings.warn(\n"
          ]
        }
      ],
      "source": [
        "#@title Importing Models\n",
        "\n",
        "# Load the Bayesian Ridge Regression model from disk.\n",
        "bayesian_ridge_filename = '/content/drive/MyDrive/ICS5110 - Applied Machine learning/bayesian_ridge_regression.sav'\n",
        "bayesian_ridge_model = pickle.load(open(bayesian_ridge_filename, 'rb'))\n",
        "\n",
        "\n",
        "# Load the ANN model from disk.\n",
        "ann_model = keras.models.load_model('/content/drive/MyDrive/ICS5110 - Applied Machine learning/annmodel.keras')\n",
        "\n",
        "\n",
        "# Load the Linear Regression model from disk.\n",
        "linear_regression_filename = '/content/drive/MyDrive/ICS5110 - Applied Machine learning/linear_reg.sav'\n",
        "linear_regression_model = pickle.load(open(linear_regression_filename, 'rb'))\n",
        "\n",
        "\n",
        "def do_ann_code():\n",
        "    #calculating extra values\n",
        "    bmi = weight/(height*height)\n",
        "    density = 0.0026 * bmi - 0.0022 * bmi + 1.060\n",
        "    bfp = -32.43547 + 0.80741 * bmi + 0.22019 * hip + 0.22170 * abdomen #body fat fitted equation\n",
        "    bodyfat = bfp\n",
        "\n",
        "    #Setting user details as list\n",
        "    ann_user_details = [bodyfat, sex, age, weight, height, neck, chest, abdomen, hip, thigh, knee, ankle, bicep, forearm, wrist, bmi, density, bfp]\n",
        "\n",
        "    #loading and maninpulating the data set\n",
        "    temp_tp = pd.read_csv(\"/content/drive/MyDrive/ICS5110 - Applied Machine learning/BodyFat_-_Extended.csv\")\n",
        "    temp_tp['Sex'] = temp_tp['Sex'].map({'M':1, 'F':0})\n",
        "    temp_tp['Age'] = temp_tp['Age'].astype(float)\n",
        "    temp_tp['BMI'] = temp_tp['Weight'] / (temp_tp['Height'] * temp_tp['Height'])\n",
        "    temp_tp['Density'] = 0.0026 * temp_tp['Sex'] - 0.0022 * temp_tp['BMI'] + 1.0605\n",
        "    temp_tp['BFP'] = -32.43547 + 0.80741 * temp_tp['BMI'] + 0.22019 * temp_tp['Hip'] + 0.22170 * temp_tp['Abdomen'] #body fat fitted equation\n",
        "\n",
        "    temp_tp.loc[len(temp_tp.index)] = ann_user_details\n",
        "\n",
        "    temp_tp.head()\n",
        "    temp_tp = temp_tp.drop('BodyFat', axis=1)\n",
        "    temp_tp = temp_tp.drop(['Sex', 'Age', 'Height', 'Neck', 'Ankle', 'Forearm', 'Wrist', 'Density'], axis=1)\n",
        "\n",
        "    return ann_model.predict(temp_tp[:434])[433]\n",
        "\n",
        "def convert_sex(sex):\n",
        "    return 1 if sex.lower() == 'm' else 0\n",
        "\n",
        "# Function to get user input and make predictions.\n",
        "def predict_body_fat(model, input_data):\n",
        "\n",
        "    if(type(input_data['Sex']) != int):\n",
        "        input_data['Sex'] = convert_sex(input_data['Sex'])\n",
        "\n",
        "    # Converting input data to a DataFrame.\n",
        "    input_df = pd.DataFrame([input_data])\n",
        "\n",
        "    # Predicting the Body Fat value based on the user input.\n",
        "    prediction = model.predict(input_df)\n",
        "\n",
        "    return prediction[0]\n"
      ]
    },
    {
      "cell_type": "code",
      "execution_count": null,
      "metadata": {
        "cellView": "form",
        "colab": {
          "base_uri": "https://localhost:8080/"
        },
        "id": "uX17RfK8e3u8",
        "outputId": "cec20c98-1f04-4a39-9339-36378513cdc1"
      },
      "outputs": [
        {
          "name": "stdout",
          "output_type": "stream",
          "text": [
            "Sex (M/F): M\n",
            "Age: 23\n",
            "Weight: 69\n",
            "Height: 1.72\n",
            "Neck circumference: 36\n",
            "Chest circumference: 93\n",
            "Abdomen circumference: 85\n",
            "Hip circumference: 94\n",
            "Thigh circumference: 59\n",
            "Knee circumference: 37\n",
            "Ankle circumference: 21\n",
            "Bicep circumference: 32\n",
            "Forearm circumference: 27\n",
            "Wrist circumference: 17\n",
            "\n",
            "\n",
            "Based on the information provided, your predicted Body Fat Percentage using the Bayesian Ridge Regression model evaluates to: 15.22%\n",
            "\n",
            "Based on the information provided, your predicted Body Fat Percentage using the Linear Regression model evaluates to: 14.82%\n"
          ]
        },
        {
          "name": "stderr",
          "output_type": "stream",
          "text": [
            "/usr/local/lib/python3.10/dist-packages/sklearn/base.py:432: UserWarning: X has feature names, but LinearRegression was fitted without feature names\n",
            "  warnings.warn(\n"
          ]
        },
        {
          "name": "stdout",
          "output_type": "stream",
          "text": [
            "14/14 [==============================] - 0s 2ms/step\n",
            "\n",
            "Based on the information provided, your predicted Body Fat Percentage using the Linear Regression model evaluates to: 15.76%\n"
          ]
        }
      ],
      "source": [
        "#@title Run for Interactive Demo\n",
        "# Asking user to input their measurment details.\n",
        "sex = input(\"Sex (M/F): \")\n",
        "age = float(input(\"Age: \"))\n",
        "weight = float(input(\"Weight: \"))\n",
        "height = float(input(\"Height: \"))\n",
        "neck = float(input(\"Neck circumference: \"))\n",
        "chest = float(input(\"Chest circumference: \"))\n",
        "abdomen = float(input(\"Abdomen circumference: \"))\n",
        "hip = float(input(\"Hip circumference: \"))\n",
        "thigh = float(input(\"Thigh circumference: \"))\n",
        "knee = float(input(\"Knee circumference: \"))\n",
        "ankle = float(input(\"Ankle circumference: \"))\n",
        "bicep = float(input(\"Bicep circumference: \"))\n",
        "forearm = float(input(\"Forearm circumference: \"))\n",
        "wrist = float(input(\"Wrist circumference: \"))\n",
        "\n",
        "\n",
        "# Creating the structure for the user input.\n",
        "user_input = {\n",
        "    'Sex': sex,  # Assuming 0 for male, 1 for female\n",
        "    'Age': age,\n",
        "    'Weight': weight,\n",
        "    'Height': height,\n",
        "    'Neck': neck,\n",
        "    'Chest': chest,\n",
        "    'Abdomen': abdomen,\n",
        "    'Hip': hip,\n",
        "    'Thigh': thigh,\n",
        "    'Knee': knee,\n",
        "    'Ankle': ankle,\n",
        "    'Biceps': bicep,\n",
        "    'Forearm': forearm,\n",
        "    'Wrist': wrist\n",
        "}\n",
        "\n",
        "# Calling the function on the user input to be predicted by the Bayesian Ridge Regression model.\n",
        "user_prediction1 = predict_body_fat(bayesian_ridge_model, user_input)\n",
        "print(f'\\n\\nBased on the information provided, your predicted Body Fat Percentage using the Bayesian Ridge Regression model evaluates to: {user_prediction1:.2f}%')\n",
        "\n",
        "# Calling the function on the user input to be predicted by the Linear Regression model.\n",
        "user_prediction2 = predict_body_fat(linear_regression_model, user_input)\n",
        "print(f'\\nBased on the information provided, your predicted Body Fat Percentage using the Linear Regression model evaluates to: {user_prediction2:.2f}%')\n",
        "\n",
        "user_prediction3 = do_ann_code()\n",
        "print(f'\\nBased on the information provided, your predicted Body Fat Percentage using the ANN model evaluates to: {user_prediction3[0]:.2f}%')\n"
      ]
    }
  ],
  "metadata": {
    "colab": {
      "provenance": []
    },
    "kernelspec": {
      "display_name": "Python 3",
      "name": "python3"
    },
    "language_info": {
      "name": "python"
    }
  },
  "nbformat": 4,
  "nbformat_minor": 0
}
